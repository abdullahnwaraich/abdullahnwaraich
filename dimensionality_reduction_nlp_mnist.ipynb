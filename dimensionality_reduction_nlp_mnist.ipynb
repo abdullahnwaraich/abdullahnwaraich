{
  "cells": [
    {
      "cell_type": "code",
      "execution_count": null,
      "metadata": {
        "id": "Ih6VILniqNbB"
      },
      "outputs": [],
      "source": [
        "import sys\n",
        "assert sys.version_info[0]==3\n",
        "assert sys.version_info[1] >= 5"
      ]
    },
    {
      "cell_type": "code",
      "execution_count": null,
      "metadata": {
        "colab": {
          "base_uri": "https://localhost:8080/"
        },
        "id": "-j8m0jVEqNel",
        "outputId": "4e9d838b-bba1-4c06-94df-b69a0e2ad64d"
      },
      "outputs": [
        {
          "output_type": "stream",
          "name": "stderr",
          "text": [
            "[nltk_data] Downloading package reuters to /root/nltk_data...\n"
          ]
        }
      ],
      "source": [
        "import sys\n",
        "assert sys.version_info[0]==3\n",
        "assert sys.version_info[1] >= 5\n",
        "\n",
        "from gensim.models import KeyedVectors\n",
        "from gensim.test.utils import datapath\n",
        "import pprint\n",
        "import matplotlib.pyplot as plt\n",
        "plt.rcParams['figure.figsize'] = [10, 5]\n",
        "import nltk\n",
        "nltk.download('reuters')\n",
        "from nltk.corpus import reuters\n",
        "import numpy as np\n",
        "import random\n",
        "import scipy as sp\n",
        "from sklearn.decomposition import TruncatedSVD\n",
        "from sklearn.decomposition import PCA\n",
        "\n",
        "START_TOKEN = '<START>'\n",
        "END_TOKEN = '<END>'\n",
        "\n",
        "np.random.seed(0)\n",
        "random.seed(0)\n",
        "# ----------------\n",
        "# The Reuters Corpus is a collection of news documents,\n",
        "# often used for tasks such as document classification or clustering"
      ]
    },
    {
      "cell_type": "code",
      "source": [
        "from collections import defaultdict"
      ],
      "metadata": {
        "id": "dcTpgO5shBT7"
      },
      "execution_count": null,
      "outputs": []
    },
    {
      "cell_type": "code",
      "execution_count": null,
      "metadata": {
        "colab": {
          "base_uri": "https://localhost:8080/"
        },
        "id": "IUPXNxlcqNhs",
        "outputId": "3f15baa6-df05-45d7-dcf3-84e41b160f7a"
      },
      "outputs": [
        {
          "output_type": "stream",
          "name": "stdout",
          "text": [
            "['test/14829', 'test/15063', 'test/15200', 'test/15230', 'test/15238', 'test/15244', 'test/15322', 'test/15339', 'test/15344', 'test/15351', 'test/15520', 'test/15939', 'test/15964', 'test/16005', 'test/16007', 'test/16040', 'test/16077', 'test/16366', 'test/16429', 'test/16438', 'test/16593', 'test/16607', 'test/16636', 'test/16649', 'test/16651', 'test/16658', 'test/16710', 'test/16723', 'test/16739', 'test/16762', 'test/17054', 'test/17478', 'test/17516', 'test/17519', 'test/17584', 'test/17618', 'test/17658', 'test/17669', 'test/17750', 'test/17757', 'test/17771', 'test/17780', 'test/17813', 'test/17816', 'test/17875', 'test/17886', 'test/17888', 'test/17892', 'test/17913', 'test/17929', 'test/17963', 'test/18066', 'test/18085', 'test/18108', 'test/18146', 'test/18186', 'test/18213', 'test/18234', 'test/18311', 'test/18325', 'test/18329', 'test/18332', 'test/18340', 'test/18493', 'test/18521', 'test/18523', 'test/18621', 'test/18651', 'test/18655', 'test/18678', 'test/18680', 'test/18689', 'test/18692', 'test/18698', 'test/18701', 'test/18704', 'test/18705', 'test/18706', 'test/18707', 'test/18728', 'test/18736', 'test/18738', 'test/18743', 'test/18746', 'test/18747', 'test/18754', 'test/18765', 'test/18773', 'test/18774', 'test/18789', 'test/18795', 'test/18810', 'test/18824', 'test/18840', 'test/18857', 'test/18896', 'test/19069', 'test/19110', 'test/19128', 'test/19182', 'test/19193', 'test/19285', 'test/19291', 'test/19397', 'test/19403', 'test/19492', 'test/19497', 'test/19499', 'test/19505', 'test/19506', 'test/19509', 'test/19556', 'test/19559', 'test/19560', 'test/19684', 'test/19756', 'test/19832', 'test/19844', 'test/19869', 'test/19903', 'test/19927', 'test/19996', 'test/19998', 'test/20008', 'test/20030', 'test/20090', 'test/20092', 'test/20093', 'test/20095', 'test/20101', 'test/20103', 'test/20270', 'test/20333', 'test/20420', 'test/20459', 'test/20464', 'test/20474', 'test/20632', 'test/20653', 'test/20662', 'test/20692', 'test/20709', 'test/20721', 'test/20730', 'test/20756', 'test/20774', 'test/20778', 'test/20828', 'test/20869', 'test/20878', 'test/20881', 'test/20882', 'test/20890', 'test/20909', 'test/20919', 'test/20936', 'test/20944', 'test/20959', 'test/20981', 'test/20991', 'test/21002', 'test/21006', 'test/21013', 'test/21018', 'test/21058', 'test/21067', 'test/21076', 'test/21131', 'test/21149', 'test/21197', 'test/21216', 'test/21267', 'test/21274', 'test/21363', 'test/21369', 'test/21380', 'test/21417', 'test/21443', 'test/21459', 'test/21465', 'test/21475', 'test/21482', 'test/21484', 'test/21485', 'test/21492', 'test/21502', 'test/21506', 'test/21541', 'test/21568', 'training/10011', 'training/10078', 'training/10080', 'training/10106', 'training/10168', 'training/10190', 'training/10192', 'training/10200', 'training/10228', 'training/1026', 'training/10268', 'training/10395', 'training/10406', 'training/10452', 'training/10539', 'training/10567', 'training/10588', 'training/10620', 'training/10621', 'training/10627', 'training/10632', 'training/10641', 'training/10669', 'training/10693', 'training/10750', 'training/10797', 'training/10845', 'training/10873', 'training/10947', 'training/11007', 'training/11025', 'training/11100', 'training/11118', 'training/11149', 'training/11213', 'training/11231', 'training/11350', 'training/11388', 'training/11403', 'training/11421', 'training/11444', 'training/11455', 'training/11491', 'training/11559', 'training/11632', 'training/11639', 'training/11699', 'training/11723', 'training/11731', 'training/12267', 'training/12286', 'training/12371', 'training/12503', 'training/12533', 'training/127', 'training/12775', 'training/12803', 'training/12940', 'training/1306', 'training/13096', 'training/13102', 'training/13115', 'training/13142', 'training/13184', 'training/13200', 'training/1324', 'training/13256', 'training/13266', 'training/1331', 'training/1335', 'training/1343', 'training/13542', 'training/13611', 'training/13633', 'training/1387', 'training/13963', 'training/14211', 'training/14395', 'training/144', 'training/14698', 'training/14704', 'training/14709', 'training/14732', 'training/1521', 'training/1556', 'training/1616', 'training/1661', 'training/1686', 'training/1692', 'training/1709', 'training/1711', 'training/1799', 'training/1851', 'training/1856', 'training/1875', 'training/1878', 'training/189', 'training/1904', 'training/1909', 'training/191', 'training/194', 'training/1948', 'training/1980', 'training/1990', 'training/2004', 'training/2007', 'training/2046', 'training/2061', 'training/211', 'training/2121', 'training/2174', 'training/2175', 'training/2187', 'training/2231', 'training/236', 'training/237', 'training/2383', 'training/242', 'training/2449', 'training/246', 'training/248', 'training/2511', 'training/2515', 'training/2517', 'training/2522', 'training/2530', 'training/2585', 'training/2688', 'training/273', 'training/2767', 'training/2775', 'training/2838', 'training/2925', 'training/2957', 'training/2970', 'training/2973', 'training/2998', 'training/3003', 'training/3015', 'training/3017', 'training/3048', 'training/3065', 'training/3115', 'training/3145', 'training/3146', 'training/3162', 'training/3169', 'training/3174', 'training/3189', 'training/3204', 'training/3303', 'training/3332', 'training/3342', 'training/3354', 'training/3364', 'training/3389', 'training/3430', 'training/3452', 'training/3455', 'training/349', 'training/3507', 'training/3509', 'training/352', 'training/353', 'training/3556', 'training/3563', 'training/3571', 'training/3592', 'training/3594', 'training/3609', 'training/368', 'training/3798', 'training/3843', 'training/3869', 'training/3906', 'training/3959', 'training/3976', 'training/3980', 'training/3985', 'training/3995', 'training/4016', 'training/4028', 'training/4039', 'training/4041', 'training/4125', 'training/4129', 'training/4162', 'training/4171', 'training/4174', 'training/4232', 'training/4246', 'training/4315', 'training/4333', 'training/4340', 'training/4365', 'training/4367', 'training/4386', 'training/4425', 'training/4429', 'training/4445', 'training/4453', 'training/4462', 'training/4466', 'training/4467', 'training/4474', 'training/4481', 'training/4525', 'training/4558', 'training/4569', 'training/4576', 'training/4578', 'training/4584', 'training/459', 'training/4590', 'training/4593', 'training/4600', 'training/4604', 'training/4609', 'training/4658', 'training/4662', 'training/4664', 'training/4689', 'training/4713', 'training/4714', 'training/4742', 'training/4831', 'training/4848', 'training/4867', 'training/489', 'training/4951', 'training/4953', 'training/4962', 'training/4983', 'training/502', 'training/5037', 'training/5061', 'training/511', 'training/5116', 'training/5118', 'training/5119', 'training/5123', 'training/5125', 'training/5150', 'training/5156', 'training/5166', 'training/5167', 'training/5171', 'training/5244', 'training/5268', 'training/5270', 'training/5273', 'training/5281', 'training/543', 'training/5542', 'training/5553', 'training/5630', 'training/5683', 'training/5796', 'training/5852', 'training/5866', 'training/6023', 'training/6060', 'training/6086', 'training/6111', 'training/6119', 'training/6125', 'training/6159', 'training/6163', 'training/6166', 'training/6169', 'training/6177', 'training/6184', 'training/6201', 'training/6208', 'training/6264', 'training/6294', 'training/6301', 'training/6348', 'training/6404', 'training/6413', 'training/6432', 'training/6578', 'training/6598', 'training/6606', 'training/6652', 'training/6656', 'training/6722', 'training/6742', 'training/6746', 'training/6760', 'training/6791', 'training/6871', 'training/6876', 'training/6893', 'training/6905', 'training/6913', 'training/6996', 'training/704', 'training/7067', 'training/708', 'training/7097', 'training/7150', 'training/7152', 'training/7174', 'training/7287', 'training/7355', 'training/7423', 'training/7496', 'training/7528', 'training/7529', 'training/7611', 'training/7618', 'training/7639', 'training/7684', 'training/7742', 'training/7854', 'training/791', 'training/8015', 'training/8041', 'training/8069', 'training/8089', 'training/8100', 'training/8117', 'training/8131', 'training/8134', 'training/8160', 'training/8167', 'training/8188', 'training/8209', 'training/8210', 'training/8288', 'training/835', 'training/8402', 'training/8405', 'training/8421', 'training/8440', 'training/8478', 'training/8493', 'training/8516', 'training/8553', 'training/8598', 'training/8600', 'training/8606', 'training/8610', 'training/8623', 'training/8630', 'training/8672', 'training/8675', 'training/873', 'training/8749', 'training/8755', 'training/8765', 'training/8812', 'training/8815', 'training/8820', 'training/8835', 'training/8856', 'training/8882', 'training/8914', 'training/8959', 'training/8964', 'training/8971', 'training/9031', 'training/9039', 'training/9065', 'training/9155', 'training/918', 'training/9208', 'training/9253', 'training/9279', 'training/9293', 'training/930', 'training/9436', 'training/9445', 'training/945', 'training/952', 'training/9527', 'training/9583', 'training/9614', 'training/9634', 'training/9639', 'training/9650', 'training/9674', 'training/9718', 'training/9801', 'training/9849', 'training/988', 'training/9913', 'training/9947']\n"
          ]
        }
      ],
      "source": [
        "print(reuters.fileids('crude'))"
      ]
    },
    {
      "cell_type": "code",
      "execution_count": null,
      "metadata": {
        "id": "_FdUBtNRqNk_"
      },
      "outputs": [],
      "source": [
        "def read_corpus(category=\"crude\"):\n",
        "    \"\"\" Read files from the specified Reuter's category.\n",
        "        Params:\n",
        "            category (string): category name\n",
        "        Return:\n",
        "            list of lists, with words from each of the processed files\n",
        "    \"\"\"\n",
        "    files = reuters.fileids(category)\n",
        "    return [[START_TOKEN] + [w.lower() for w in list(reuters.words(f))] + [END_TOKEN] for f in files]"
      ]
    },
    {
      "cell_type": "code",
      "source": [
        "reuters_corpus = read_corpus()\n",
        "pprint.pprint(reuters_corpus[:3], compact=True, width=100)"
      ],
      "metadata": {
        "colab": {
          "base_uri": "https://localhost:8080/"
        },
        "id": "4iHi6WqlvcOx",
        "outputId": "7a242808-5ac2-476e-e2d6-50201069be2d"
      },
      "execution_count": null,
      "outputs": [
        {
          "output_type": "stream",
          "name": "stdout",
          "text": [
            "[['<START>', 'japan', 'to', 'revise', 'long', '-', 'term', 'energy', 'demand', 'downwards', 'the',\n",
            "  'ministry', 'of', 'international', 'trade', 'and', 'industry', '(', 'miti', ')', 'will', 'revise',\n",
            "  'its', 'long', '-', 'term', 'energy', 'supply', '/', 'demand', 'outlook', 'by', 'august', 'to',\n",
            "  'meet', 'a', 'forecast', 'downtrend', 'in', 'japanese', 'energy', 'demand', ',', 'ministry',\n",
            "  'officials', 'said', '.', 'miti', 'is', 'expected', 'to', 'lower', 'the', 'projection', 'for',\n",
            "  'primary', 'energy', 'supplies', 'in', 'the', 'year', '2000', 'to', '550', 'mln', 'kilolitres',\n",
            "  '(', 'kl', ')', 'from', '600', 'mln', ',', 'they', 'said', '.', 'the', 'decision', 'follows',\n",
            "  'the', 'emergence', 'of', 'structural', 'changes', 'in', 'japanese', 'industry', 'following',\n",
            "  'the', 'rise', 'in', 'the', 'value', 'of', 'the', 'yen', 'and', 'a', 'decline', 'in', 'domestic',\n",
            "  'electric', 'power', 'demand', '.', 'miti', 'is', 'planning', 'to', 'work', 'out', 'a', 'revised',\n",
            "  'energy', 'supply', '/', 'demand', 'outlook', 'through', 'deliberations', 'of', 'committee',\n",
            "  'meetings', 'of', 'the', 'agency', 'of', 'natural', 'resources', 'and', 'energy', ',', 'the',\n",
            "  'officials', 'said', '.', 'they', 'said', 'miti', 'will', 'also', 'review', 'the', 'breakdown',\n",
            "  'of', 'energy', 'supply', 'sources', ',', 'including', 'oil', ',', 'nuclear', ',', 'coal', 'and',\n",
            "  'natural', 'gas', '.', 'nuclear', 'energy', 'provided', 'the', 'bulk', 'of', 'japan', \"'\", 's',\n",
            "  'electric', 'power', 'in', 'the', 'fiscal', 'year', 'ended', 'march', '31', ',', 'supplying',\n",
            "  'an', 'estimated', '27', 'pct', 'on', 'a', 'kilowatt', '/', 'hour', 'basis', ',', 'followed',\n",
            "  'by', 'oil', '(', '23', 'pct', ')', 'and', 'liquefied', 'natural', 'gas', '(', '21', 'pct', '),',\n",
            "  'they', 'noted', '.', '<END>'],\n",
            " ['<START>', 'energy', '/', 'u', '.', 's', '.', 'petrochemical', 'industry', 'cheap', 'oil',\n",
            "  'feedstocks', ',', 'the', 'weakened', 'u', '.', 's', '.', 'dollar', 'and', 'a', 'plant',\n",
            "  'utilization', 'rate', 'approaching', '90', 'pct', 'will', 'propel', 'the', 'streamlined', 'u',\n",
            "  '.', 's', '.', 'petrochemical', 'industry', 'to', 'record', 'profits', 'this', 'year', ',',\n",
            "  'with', 'growth', 'expected', 'through', 'at', 'least', '1990', ',', 'major', 'company',\n",
            "  'executives', 'predicted', '.', 'this', 'bullish', 'outlook', 'for', 'chemical', 'manufacturing',\n",
            "  'and', 'an', 'industrywide', 'move', 'to', 'shed', 'unrelated', 'businesses', 'has', 'prompted',\n",
            "  'gaf', 'corp', '&', 'lt', ';', 'gaf', '>,', 'privately', '-', 'held', 'cain', 'chemical', 'inc',\n",
            "  ',', 'and', 'other', 'firms', 'to', 'aggressively', 'seek', 'acquisitions', 'of', 'petrochemical',\n",
            "  'plants', '.', 'oil', 'companies', 'such', 'as', 'ashland', 'oil', 'inc', '&', 'lt', ';', 'ash',\n",
            "  '>,', 'the', 'kentucky', '-', 'based', 'oil', 'refiner', 'and', 'marketer', ',', 'are', 'also',\n",
            "  'shopping', 'for', 'money', '-', 'making', 'petrochemical', 'businesses', 'to', 'buy', '.', '\"',\n",
            "  'i', 'see', 'us', 'poised', 'at', 'the', 'threshold', 'of', 'a', 'golden', 'period', ',\"', 'said',\n",
            "  'paul', 'oreffice', ',', 'chairman', 'of', 'giant', 'dow', 'chemical', 'co', '&', 'lt', ';',\n",
            "  'dow', '>,', 'adding', ',', '\"', 'there', \"'\", 's', 'no', 'major', 'plant', 'capacity', 'being',\n",
            "  'added', 'around', 'the', 'world', 'now', '.', 'the', 'whole', 'game', 'is', 'bringing', 'out',\n",
            "  'new', 'products', 'and', 'improving', 'the', 'old', 'ones', '.\"', 'analysts', 'say', 'the',\n",
            "  'chemical', 'industry', \"'\", 's', 'biggest', 'customers', ',', 'automobile', 'manufacturers',\n",
            "  'and', 'home', 'builders', 'that', 'use', 'a', 'lot', 'of', 'paints', 'and', 'plastics', ',',\n",
            "  'are', 'expected', 'to', 'buy', 'quantities', 'this', 'year', '.', 'u', '.', 's', '.',\n",
            "  'petrochemical', 'plants', 'are', 'currently', 'operating', 'at', 'about', '90', 'pct',\n",
            "  'capacity', ',', 'reflecting', 'tighter', 'supply', 'that', 'could', 'hike', 'product', 'prices',\n",
            "  'by', '30', 'to', '40', 'pct', 'this', 'year', ',', 'said', 'john', 'dosher', ',', 'managing',\n",
            "  'director', 'of', 'pace', 'consultants', 'inc', 'of', 'houston', '.', 'demand', 'for', 'some',\n",
            "  'products', 'such', 'as', 'styrene', 'could', 'push', 'profit', 'margins', 'up', 'by', 'as',\n",
            "  'much', 'as', '300', 'pct', ',', 'he', 'said', '.', 'oreffice', ',', 'speaking', 'at', 'a',\n",
            "  'meeting', 'of', 'chemical', 'engineers', 'in', 'houston', ',', 'said', 'dow', 'would', 'easily',\n",
            "  'top', 'the', '741', 'mln', 'dlrs', 'it', 'earned', 'last', 'year', 'and', 'predicted', 'it',\n",
            "  'would', 'have', 'the', 'best', 'year', 'in', 'its', 'history', '.', 'in', '1985', ',', 'when',\n",
            "  'oil', 'prices', 'were', 'still', 'above', '25', 'dlrs', 'a', 'barrel', 'and', 'chemical',\n",
            "  'exports', 'were', 'adversely', 'affected', 'by', 'the', 'strong', 'u', '.', 's', '.', 'dollar',\n",
            "  ',', 'dow', 'had', 'profits', 'of', '58', 'mln', 'dlrs', '.', '\"', 'i', 'believe', 'the',\n",
            "  'entire', 'chemical', 'industry', 'is', 'headed', 'for', 'a', 'record', 'year', 'or', 'close',\n",
            "  'to', 'it', ',\"', 'oreffice', 'said', '.', 'gaf', 'chairman', 'samuel', 'heyman', 'estimated',\n",
            "  'that', 'the', 'u', '.', 's', '.', 'chemical', 'industry', 'would', 'report', 'a', '20', 'pct',\n",
            "  'gain', 'in', 'profits', 'during', '1987', '.', 'last', 'year', ',', 'the', 'domestic',\n",
            "  'industry', 'earned', 'a', 'total', 'of', '13', 'billion', 'dlrs', ',', 'a', '54', 'pct', 'leap',\n",
            "  'from', '1985', '.', 'the', 'turn', 'in', 'the', 'fortunes', 'of', 'the', 'once', '-', 'sickly',\n",
            "  'chemical', 'industry', 'has', 'been', 'brought', 'about', 'by', 'a', 'combination', 'of', 'luck',\n",
            "  'and', 'planning', ',', 'said', 'pace', \"'\", 's', 'john', 'dosher', '.', 'dosher', 'said', 'last',\n",
            "  'year', \"'\", 's', 'fall', 'in', 'oil', 'prices', 'made', 'feedstocks', 'dramatically', 'cheaper',\n",
            "  'and', 'at', 'the', 'same', 'time', 'the', 'american', 'dollar', 'was', 'weakening', 'against',\n",
            "  'foreign', 'currencies', '.', 'that', 'helped', 'boost', 'u', '.', 's', '.', 'chemical',\n",
            "  'exports', '.', 'also', 'helping', 'to', 'bring', 'supply', 'and', 'demand', 'into', 'balance',\n",
            "  'has', 'been', 'the', 'gradual', 'market', 'absorption', 'of', 'the', 'extra', 'chemical',\n",
            "  'manufacturing', 'capacity', 'created', 'by', 'middle', 'eastern', 'oil', 'producers', 'in',\n",
            "  'the', 'early', '1980s', '.', 'finally', ',', 'virtually', 'all', 'major', 'u', '.', 's', '.',\n",
            "  'chemical', 'manufacturers', 'have', 'embarked', 'on', 'an', 'extensive', 'corporate',\n",
            "  'restructuring', 'program', 'to', 'mothball', 'inefficient', 'plants', ',', 'trim', 'the',\n",
            "  'payroll', 'and', 'eliminate', 'unrelated', 'businesses', '.', 'the', 'restructuring', 'touched',\n",
            "  'off', 'a', 'flurry', 'of', 'friendly', 'and', 'hostile', 'takeover', 'attempts', '.', 'gaf', ',',\n",
            "  'which', 'made', 'an', 'unsuccessful', 'attempt', 'in', '1985', 'to', 'acquire', 'union',\n",
            "  'carbide', 'corp', '&', 'lt', ';', 'uk', '>,', 'recently', 'offered', 'three', 'billion', 'dlrs',\n",
            "  'for', 'borg', 'warner', 'corp', '&', 'lt', ';', 'bor', '>,', 'a', 'chicago', 'manufacturer',\n",
            "  'of', 'plastics', 'and', 'chemicals', '.', 'another', 'industry', 'powerhouse', ',', 'w', '.',\n",
            "  'r', '.', 'grace', '&', 'lt', ';', 'gra', '>', 'has', 'divested', 'its', 'retailing', ',',\n",
            "  'restaurant', 'and', 'fertilizer', 'businesses', 'to', 'raise', 'cash', 'for', 'chemical',\n",
            "  'acquisitions', '.', 'but', 'some', 'experts', 'worry', 'that', 'the', 'chemical', 'industry',\n",
            "  'may', 'be', 'headed', 'for', 'trouble', 'if', 'companies', 'continue', 'turning', 'their',\n",
            "  'back', 'on', 'the', 'manufacturing', 'of', 'staple', 'petrochemical', 'commodities', ',', 'such',\n",
            "  'as', 'ethylene', ',', 'in', 'favor', 'of', 'more', 'profitable', 'specialty', 'chemicals',\n",
            "  'that', 'are', 'custom', '-', 'designed', 'for', 'a', 'small', 'group', 'of', 'buyers', '.', '\"',\n",
            "  'companies', 'like', 'dupont', '&', 'lt', ';', 'dd', '>', 'and', 'monsanto', 'co', '&', 'lt', ';',\n",
            "  'mtc', '>', 'spent', 'the', 'past', 'two', 'or', 'three', 'years', 'trying', 'to', 'get', 'out',\n",
            "  'of', 'the', 'commodity', 'chemical', 'business', 'in', 'reaction', 'to', 'how', 'badly', 'the',\n",
            "  'market', 'had', 'deteriorated', ',\"', 'dosher', 'said', '.', '\"', 'but', 'i', 'think', 'they',\n",
            "  'will', 'eventually', 'kill', 'the', 'margins', 'on', 'the', 'profitable', 'chemicals', 'in',\n",
            "  'the', 'niche', 'market', '.\"', 'some', 'top', 'chemical', 'executives', 'share', 'the',\n",
            "  'concern', '.', '\"', 'the', 'challenge', 'for', 'our', 'industry', 'is', 'to', 'keep', 'from',\n",
            "  'getting', 'carried', 'away', 'and', 'repeating', 'past', 'mistakes', ',\"', 'gaf', \"'\", 's',\n",
            "  'heyman', 'cautioned', '.', '\"', 'the', 'shift', 'from', 'commodity', 'chemicals', 'may', 'be',\n",
            "  'ill', '-', 'advised', '.', 'specialty', 'businesses', 'do', 'not', 'stay', 'special', 'long',\n",
            "  '.\"', 'houston', '-', 'based', 'cain', 'chemical', ',', 'created', 'this', 'month', 'by', 'the',\n",
            "  'sterling', 'investment', 'banking', 'group', ',', 'believes', 'it', 'can', 'generate', '700',\n",
            "  'mln', 'dlrs', 'in', 'annual', 'sales', 'by', 'bucking', 'the', 'industry', 'trend', '.',\n",
            "  'chairman', 'gordon', 'cain', ',', 'who', 'previously', 'led', 'a', 'leveraged', 'buyout', 'of',\n",
            "  'dupont', \"'\", 's', 'conoco', 'inc', \"'\", 's', 'chemical', 'business', ',', 'has', 'spent', '1',\n",
            "  '.', '1', 'billion', 'dlrs', 'since', 'january', 'to', 'buy', 'seven', 'petrochemical', 'plants',\n",
            "  'along', 'the', 'texas', 'gulf', 'coast', '.', 'the', 'plants', 'produce', 'only', 'basic',\n",
            "  'commodity', 'petrochemicals', 'that', 'are', 'the', 'building', 'blocks', 'of', 'specialty',\n",
            "  'products', '.', '\"', 'this', 'kind', 'of', 'commodity', 'chemical', 'business', 'will', 'never',\n",
            "  'be', 'a', 'glamorous', ',', 'high', '-', 'margin', 'business', ',\"', 'cain', 'said', ',',\n",
            "  'adding', 'that', 'demand', 'is', 'expected', 'to', 'grow', 'by', 'about', 'three', 'pct',\n",
            "  'annually', '.', 'garo', 'armen', ',', 'an', 'analyst', 'with', 'dean', 'witter', 'reynolds', ',',\n",
            "  'said', 'chemical', 'makers', 'have', 'also', 'benefitted', 'by', 'increasing', 'demand', 'for',\n",
            "  'plastics', 'as', 'prices', 'become', 'more', 'competitive', 'with', 'aluminum', ',', 'wood',\n",
            "  'and', 'steel', 'products', '.', 'armen', 'estimated', 'the', 'upturn', 'in', 'the', 'chemical',\n",
            "  'business', 'could', 'last', 'as', 'long', 'as', 'four', 'or', 'five', 'years', ',', 'provided',\n",
            "  'the', 'u', '.', 's', '.', 'economy', 'continues', 'its', 'modest', 'rate', 'of', 'growth', '.',\n",
            "  '<END>'],\n",
            " ['<START>', 'turkey', 'calls', 'for', 'dialogue', 'to', 'solve', 'dispute', 'turkey', 'said',\n",
            "  'today', 'its', 'disputes', 'with', 'greece', ',', 'including', 'rights', 'on', 'the',\n",
            "  'continental', 'shelf', 'in', 'the', 'aegean', 'sea', ',', 'should', 'be', 'solved', 'through',\n",
            "  'negotiations', '.', 'a', 'foreign', 'ministry', 'statement', 'said', 'the', 'latest', 'crisis',\n",
            "  'between', 'the', 'two', 'nato', 'members', 'stemmed', 'from', 'the', 'continental', 'shelf',\n",
            "  'dispute', 'and', 'an', 'agreement', 'on', 'this', 'issue', 'would', 'effect', 'the', 'security',\n",
            "  ',', 'economy', 'and', 'other', 'rights', 'of', 'both', 'countries', '.', '\"', 'as', 'the',\n",
            "  'issue', 'is', 'basicly', 'political', ',', 'a', 'solution', 'can', 'only', 'be', 'found', 'by',\n",
            "  'bilateral', 'negotiations', ',\"', 'the', 'statement', 'said', '.', 'greece', 'has', 'repeatedly',\n",
            "  'said', 'the', 'issue', 'was', 'legal', 'and', 'could', 'be', 'solved', 'at', 'the',\n",
            "  'international', 'court', 'of', 'justice', '.', 'the', 'two', 'countries', 'approached', 'armed',\n",
            "  'confrontation', 'last', 'month', 'after', 'greece', 'announced', 'it', 'planned', 'oil',\n",
            "  'exploration', 'work', 'in', 'the', 'aegean', 'and', 'turkey', 'said', 'it', 'would', 'also',\n",
            "  'search', 'for', 'oil', '.', 'a', 'face', '-', 'off', 'was', 'averted', 'when', 'turkey',\n",
            "  'confined', 'its', 'research', 'to', 'territorrial', 'waters', '.', '\"', 'the', 'latest',\n",
            "  'crises', 'created', 'an', 'historic', 'opportunity', 'to', 'solve', 'the', 'disputes', 'between',\n",
            "  'the', 'two', 'countries', ',\"', 'the', 'foreign', 'ministry', 'statement', 'said', '.', 'turkey',\n",
            "  \"'\", 's', 'ambassador', 'in', 'athens', ',', 'nazmi', 'akiman', ',', 'was', 'due', 'to', 'meet',\n",
            "  'prime', 'minister', 'andreas', 'papandreou', 'today', 'for', 'the', 'greek', 'reply', 'to', 'a',\n",
            "  'message', 'sent', 'last', 'week', 'by', 'turkish', 'prime', 'minister', 'turgut', 'ozal', '.',\n",
            "  'the', 'contents', 'of', 'the', 'message', 'were', 'not', 'disclosed', '.', '<END>']]\n"
          ]
        }
      ]
    },
    {
      "cell_type": "code",
      "source": [
        "# reuters_corpus is a list of lists\n",
        "def distinct_words(corpus):\n",
        "  corpus_words=set()\n",
        "  for files in corpus:\n",
        "    for words in files:\n",
        "      corpus_words.add(words)\n",
        "  corpus_words=sorted(list(corpus_words))\n",
        "  return corpus_words, len(corpus_words)"
      ],
      "metadata": {
        "id": "oRoxpAPuvcUs"
      },
      "execution_count": null,
      "outputs": []
    },
    {
      "cell_type": "code",
      "source": [
        "# ---------------------\n",
        "# Run this sanity check\n",
        "# Note that this not an exhaustive check for correctness.\n",
        "# ---------------------\n",
        "\n",
        "# Define toy corpus\n",
        "test_corpus = [\"{} All that glitters isn't gold {}\".format(START_TOKEN, END_TOKEN).split(\" \"), \"{} All's well that ends well {}\".format(START_TOKEN, END_TOKEN).split(\" \")]\n",
        "test_corpus_words, num_corpus_words = distinct_words(test_corpus)\n",
        "\n",
        "# Correct answers\n",
        "ans_test_corpus_words = sorted([START_TOKEN, \"All\", \"ends\", \"that\", \"gold\", \"All's\", \"glitters\", \"isn't\", \"well\", END_TOKEN])\n",
        "ans_num_corpus_words = len(ans_test_corpus_words)\n",
        "\n",
        "# Test correct number of words\n",
        "assert(num_corpus_words == ans_num_corpus_words), \"Incorrect number of distinct words. Correct: {}. Yours: {}\".format(ans_num_corpus_words, num_corpus_words)\n",
        "\n",
        "# Test correct words\n",
        "assert (test_corpus_words == ans_test_corpus_words), \"Incorrect corpus_words.\\nCorrect: {}\\nYours:   {}\".format(str(ans_test_corpus_words), str(test_corpus_words))\n",
        "\n",
        "# Print Success\n",
        "print (\"-\" * 80)\n",
        "print(\"Passed All Tests!\")\n",
        "print (\"-\" * 80)"
      ],
      "metadata": {
        "colab": {
          "base_uri": "https://localhost:8080/"
        },
        "id": "J9ijfdCVwQML",
        "outputId": "d3c7bd01-5f08-479e-96ca-a02b088db41e"
      },
      "execution_count": null,
      "outputs": [
        {
          "output_type": "stream",
          "name": "stdout",
          "text": [
            "--------------------------------------------------------------------------------\n",
            "Passed All Tests!\n",
            "--------------------------------------------------------------------------------\n"
          ]
        }
      ]
    },
    {
      "cell_type": "code",
      "source": [
        "def compute_co_occurrence_matrix(corpus, window_size=4):\n",
        "  corpus_words=distinct_words(corpus)[0]\n",
        "  num_corpus_words=distinct_words(corpus)[1]\n",
        "  M=np.zeros((num_corpus_words,num_corpus_words))\n",
        "  word2ind = defaultdict(int)\n",
        "  # dict with (key,val)=(word,idx in M)\n",
        "  for i in range(num_corpus_words):\n",
        "    word2ind[corpus_words[i]]=i\n",
        "  for files in corpus:\n",
        "    for idx,c_words in enumerate(files):\n",
        "      l_p, r_p = max(0,idx-window_size), min(idx+window_size,len(files)-1)\n",
        "      j=l_p\n",
        "      while j <= r_p :\n",
        "        if j != idx:\n",
        "          M[word2ind[c_words],word2ind[files[j]]]+=1\n",
        "        j+=1\n",
        "  return M, word2ind"
      ],
      "metadata": {
        "id": "aNCeg3sRwQP0"
      },
      "execution_count": null,
      "outputs": []
    },
    {
      "cell_type": "code",
      "source": [
        "# ---------------------\n",
        "# Run this sanity check\n",
        "# Note that this is not an exhaustive check for correctness.\n",
        "# ---------------------\n",
        "\n",
        "# Define toy corpus and get student's co-occurrence matrix\n",
        "test_corpus = [\"{} All that glitters isn't gold {}\".format(START_TOKEN, END_TOKEN).split(\" \"), \"{} All's well that ends well {}\".format(START_TOKEN, END_TOKEN).split(\" \")]\n",
        "M_test, word2ind_test = compute_co_occurrence_matrix(test_corpus, window_size=1)\n",
        "\n",
        "# Correct M and word2ind\n",
        "M_test_ans = np.array(\n",
        "    [[0., 0., 0., 0., 0., 0., 1., 0., 0., 1.,],\n",
        "     [0., 0., 1., 1., 0., 0., 0., 0., 0., 0.,],\n",
        "     [0., 1., 0., 0., 0., 0., 0., 0., 1., 0.,],\n",
        "     [0., 1., 0., 0., 0., 0., 0., 0., 0., 1.,],\n",
        "     [0., 0., 0., 0., 0., 0., 0., 0., 1., 1.,],\n",
        "     [0., 0., 0., 0., 0., 0., 0., 1., 1., 0.,],\n",
        "     [1., 0., 0., 0., 0., 0., 0., 1., 0., 0.,],\n",
        "     [0., 0., 0., 0., 0., 1., 1., 0., 0., 0.,],\n",
        "     [0., 0., 1., 0., 1., 1., 0., 0., 0., 1.,],\n",
        "     [1., 0., 0., 1., 1., 0., 0., 0., 1., 0.,]]\n",
        ")\n",
        "ans_test_corpus_words = sorted([START_TOKEN, \"All\", \"ends\", \"that\", \"gold\", \"All's\", \"glitters\", \"isn't\", \"well\", END_TOKEN])\n",
        "word2ind_ans = dict(zip(ans_test_corpus_words, range(len(ans_test_corpus_words))))\n",
        "\n",
        "# Test correct word2ind\n",
        "assert (word2ind_ans == word2ind_test), \"Your word2ind is incorrect:\\nCorrect: {}\\nYours: {}\".format(word2ind_ans, word2ind_test)\n",
        "\n",
        "# Test correct M shape\n",
        "assert (M_test.shape == M_test_ans.shape), \"M matrix has incorrect shape.\\nCorrect: {}\\nYours: {}\".format(M_test.shape, M_test_ans.shape)\n",
        "\n",
        "# Test correct M values\n",
        "for w1 in word2ind_ans.keys():\n",
        "    idx1 = word2ind_ans[w1]\n",
        "    for w2 in word2ind_ans.keys():\n",
        "        idx2 = word2ind_ans[w2]\n",
        "        student = M_test[idx1, idx2]\n",
        "        correct = M_test_ans[idx1, idx2]\n",
        "        if student != correct:\n",
        "            print(\"Correct M:\")\n",
        "            print(M_test_ans)\n",
        "            print(\"Your M: \")\n",
        "            print(M_test)\n",
        "            raise AssertionError(\"Incorrect count at index ({}, {})=({}, {}) in matrix M. Yours has {} but should have {}.\".format(idx1, idx2, w1, w2, student, correct))\n",
        "\n",
        "# Print Success\n",
        "print (\"-\" * 80)\n",
        "print(\"Passed All Tests!\")\n",
        "print (\"-\" * 80)"
      ],
      "metadata": {
        "colab": {
          "base_uri": "https://localhost:8080/"
        },
        "id": "nZqVo3_zwQsB",
        "outputId": "1689fd36-3599-4067-de30-989e412a6915"
      },
      "execution_count": null,
      "outputs": [
        {
          "output_type": "stream",
          "name": "stdout",
          "text": [
            "--------------------------------------------------------------------------------\n",
            "Passed All Tests!\n",
            "--------------------------------------------------------------------------------\n"
          ]
        }
      ]
    },
    {
      "cell_type": "code",
      "source": [
        "from sklearn.decomposition import TruncatedSVD\n",
        "def reduce_to_k_dim(M, k=2):\n",
        "    n_iters = 10  # Number of iterations for SVD to converge\n",
        "    # Initialize TruncatedSVD from Scikit-learn\n",
        "    svd = TruncatedSVD(n_components=k, n_iter=n_iters)\n",
        "    # Fit the SVD model to the matrix and perform dimensionality reduction\n",
        "    M_reduced = svd.fit_transform(M)\n",
        "    print(f\"Running Truncated SVD over {M.shape[0]} words...\")\n",
        "    print(\"Done.\")\n",
        "    return M_reduced"
      ],
      "metadata": {
        "id": "gtOSLaP-wQu2"
      },
      "execution_count": null,
      "outputs": []
    },
    {
      "cell_type": "code",
      "source": [
        "# ---------------------\n",
        "# Run this sanity check\n",
        "# Note that this is not an exhaustive check for correctness\n",
        "# In fact we only check that your M_reduced has the right dimensions.\n",
        "# ---------------------\n",
        "\n",
        "# Define toy corpus and run student code\n",
        "test_corpus = [\"{} All that glitters isn't gold {}\".format(START_TOKEN, END_TOKEN).split(\" \"), \"{} All's well that ends well {}\".format(START_TOKEN, END_TOKEN).split(\" \")]\n",
        "M_test, word2ind_test = compute_co_occurrence_matrix(test_corpus, window_size=1)\n",
        "M_test_reduced = reduce_to_k_dim(M_test, k=2)\n",
        "\n",
        "# Test proper dimensions\n",
        "assert (M_test_reduced.shape[0] == 10), \"M_reduced has {} rows; should have {}\".format(M_test_reduced.shape[0], 10)\n",
        "assert (M_test_reduced.shape[1] == 2), \"M_reduced has {} columns; should have {}\".format(M_test_reduced.shape[1], 2)\n",
        "\n",
        "# Print Success\n",
        "print (\"-\" * 80)\n",
        "print(\"Passed All Tests!\")\n",
        "print (\"-\" * 80)"
      ],
      "metadata": {
        "colab": {
          "base_uri": "https://localhost:8080/"
        },
        "id": "iiNDurztwQyl",
        "outputId": "2964efcf-7318-4419-a818-b6bd9411fbaa"
      },
      "execution_count": null,
      "outputs": [
        {
          "output_type": "stream",
          "name": "stdout",
          "text": [
            "Running Truncated SVD over 10 words...\n",
            "Done.\n",
            "--------------------------------------------------------------------------------\n",
            "Passed All Tests!\n",
            "--------------------------------------------------------------------------------\n"
          ]
        }
      ]
    },
    {
      "cell_type": "code",
      "source": [
        "def plot_embeddings(M_reduced, word2ind, words):\n",
        "    \"\"\" Plot in a scatterplot the embeddings of the words specified in the list \"words\".\n",
        "        NOTE: do not plot all the words listed in M_reduced / word2ind.\n",
        "        Include a label next to each point.\n",
        "\n",
        "        Params:\n",
        "            M_reduced (numpy matrix of shape (number of unique words in the corpus , 2)): matrix of 2-dimensioal word embeddings\n",
        "            word2ind (dict): dictionary that maps word to indices for matrix M\n",
        "            words (list of strings): words whose embeddings we want to visualize\n",
        "    \"\"\"\n",
        "    plt.figure(figsize=(12,10))\n",
        "    for word in words:\n",
        "      if word in word2ind:\n",
        "        x,y=M_reduced[word2ind[word]]\n",
        "        plt.scatter(x,y,marker='x',color='blue')\n",
        "        plt.text(x+0.001,y+0.001,word,fontsize=7)\n",
        "    plt.title('word embedding')\n",
        "    plt.xlabel('feature dim one')\n",
        "    plt.ylabel('feature dim two')\n",
        "    plt.grid(True)\n",
        "    plt.show()"
      ],
      "metadata": {
        "id": "fjznrBjIncui"
      },
      "execution_count": null,
      "outputs": []
    },
    {
      "cell_type": "code",
      "source": [
        "# ---------------------\n",
        "# Run this sanity check\n",
        "# Note that this is not an exhaustive check for correctness.\n",
        "# The plot produced should look like the \"test solution plot\" depicted below.\n",
        "# ---------------------\n",
        "print (\"-\" * 80)\n",
        "print (\"Outputted Plot:\")\n",
        "M_reduced_plot_test = np.array([[1, 1], [-1, -1], [1, -1], [-1, 1], [0, 0]])\n",
        "word2ind_plot_test = {'test1': 0, 'test2': 1, 'test3': 2, 'test4': 3, 'test5': 4}\n",
        "words = ['test1', 'test2', 'test3', 'test4', 'test5']\n",
        "plot_embeddings(M_reduced_plot_test, word2ind_plot_test, words)\n",
        "print (\"-\" * 80)"
      ],
      "metadata": {
        "colab": {
          "base_uri": "https://localhost:8080/",
          "height": 924
        },
        "id": "Vn9D9xFVnc1K",
        "outputId": "9c8c49b0-7143-4263-d9cb-4f8acbd9ca6a"
      },
      "execution_count": null,
      "outputs": [
        {
          "output_type": "stream",
          "name": "stdout",
          "text": [
            "--------------------------------------------------------------------------------\n",
            "Outputted Plot:\n"
          ]
        },
        {
          "output_type": "display_data",
          "data": {
            "text/plain": [
              "<Figure size 1200x1000 with 1 Axes>"
            ],
            "image/png": "[encoded data removed]"
          },
          "metadata": {}
        },
        {
          "output_type": "stream",
          "name": "stdout",
          "text": [
            "--------------------------------------------------------------------------------\n"
          ]
        }
      ]
    },
    {
      "cell_type": "code",
      "source": [
        "reuters_corpus = read_corpus()\n",
        "M_co_occurrence, word2ind_co_occurrence = compute_co_occurrence_matrix(reuters_corpus)\n",
        "M_reduced_co_occurrence = reduce_to_k_dim(M_co_occurrence, k=2)\n",
        "# Rescale (normalize) the rows to make them each of unit-length\n",
        "M_lengths = np.linalg.norm(M_reduced_co_occurrence, axis=1)\n",
        "M_normalized = M_reduced_co_occurrence / M_lengths[:, np.newaxis] # broadcasting\n",
        "words = ['barrels', 'bpd', 'ecuador', 'energy', 'industry', 'kuwait', 'oil', 'output', 'petroleum', 'iraq']\n",
        "plot_embeddings(M_normalized, word2ind_co_occurrence, words)"
      ],
      "metadata": {
        "colab": {
          "base_uri": "https://localhost:8080/",
          "height": 907
        },
        "id": "INx8bYNFv7G_",
        "outputId": "bf3a8723-74c0-4558-d69a-6e7128acb936"
      },
      "execution_count": null,
      "outputs": [
        {
          "output_type": "stream",
          "name": "stdout",
          "text": [
            "Running Truncated SVD over 8185 words...\n",
            "Done.\n"
          ]
        },
        {
          "output_type": "display_data",
          "data": {
            "text/plain": [
              "<Figure size 1200x1000 with 1 Axes>"
            ],
            "image/png": "[encoded data removed]"
          },
          "metadata": {}
        }
      ]
    },
    {
      "cell_type": "code",
      "source": [
        "def load_embedding_model():\n",
        "    \"\"\" Load GloVe Vectors\n",
        "        Return:\n",
        "            wv_from_bin: All embeddings from GloVe (200-dimensional)\n",
        "    \"\"\"\n",
        "    import gensim.downloader as api\n",
        "    wv_from_bin = api.load(\"glove-wiki-gigaword-200\")\n",
        "    print(\"Loaded vocab size %i\" % len(wv_from_bin.key_to_index))  # Use key_to_index instead of vocab\n",
        "    return wv_from_bin\n",
        "\n",
        "wv_from_bin = load_embedding_model()"
      ],
      "metadata": {
        "colab": {
          "base_uri": "https://localhost:8080/"
        },
        "id": "UFf77T9x_t0W",
        "outputId": "37417928-6b6d-4605-db00-60947a4c14ae"
      },
      "execution_count": null,
      "outputs": [
        {
          "output_type": "stream",
          "name": "stdout",
          "text": [
            "Loaded vocab size 400000\n"
          ]
        }
      ]
    },
    {
      "cell_type": "code",
      "source": [
        "wv_from_bin.key_to_index['queen']"
      ],
      "metadata": {
        "colab": {
          "base_uri": "https://localhost:8080/"
        },
        "id": "-TYb4VcZFWFq",
        "outputId": "e2de87a7-2928-4fbb-b251-f8fa394fdf16"
      },
      "execution_count": null,
      "outputs": [
        {
          "output_type": "execute_result",
          "data": {
            "text/plain": [
              "2060"
            ]
          },
          "metadata": {},
          "execution_count": 26
        }
      ]
    },
    {
      "cell_type": "code",
      "source": [
        "kng=wv_from_bin['king']\n",
        "qun=wv_from_bin['queen']\n",
        "print(np.linalg.norm(kng-qun))"
      ],
      "metadata": {
        "colab": {
          "base_uri": "https://localhost:8080/"
        },
        "id": "XMsGxVJlDpiV",
        "outputId": "55b95991-42e5-4c36-e182-29ed1a56c03e"
      },
      "execution_count": null,
      "outputs": [
        {
          "output_type": "stream",
          "name": "stdout",
          "text": [
            "5.4948783\n"
          ]
        }
      ]
    },
    {
      "cell_type": "code",
      "source": [
        "egy=wv_from_bin['energy']\n",
        "print(np.linalg.norm(kng-egy))"
      ],
      "metadata": {
        "colab": {
          "base_uri": "https://localhost:8080/"
        },
        "id": "3-hrzN1sElhu",
        "outputId": "d803aca4-aa01-457f-96e7-269cc846391b"
      },
      "execution_count": null,
      "outputs": [
        {
          "output_type": "stream",
          "name": "stdout",
          "text": [
            "9.300834\n"
          ]
        }
      ]
    },
    {
      "cell_type": "code",
      "source": [
        "ol=wv_from_bin['oil']\n",
        "print(np.linalg.norm(ol-egy))"
      ],
      "metadata": {
        "colab": {
          "base_uri": "https://localhost:8080/"
        },
        "id": "qnBq4yqME1Od",
        "outputId": "f44d616b-af34-44e2-fc81-421f959d9db4"
      },
      "execution_count": null,
      "outputs": [
        {
          "output_type": "stream",
          "name": "stdout",
          "text": [
            "7.105465\n"
          ]
        }
      ]
    },
    {
      "cell_type": "markdown",
      "source": [
        "# ***SVD and Dimensionality reduction***\n",
        "\n",
        "$$\\alpha_{N}\\big(\\underbrace{X}_{[x_1,\\ldots,x_N]},n,p\\big):=\\min_{dim(\\mathcal{W})=p<n} \\frac{1}{N} \\sum_{i=1}^{N}\\|x_{i}-P_{\\mathcal{W}}(x_{i})\\|^{2}. \\hspace{15pt} \\textit{(prob_1)}$$\n",
        "essentially looking for $p-$ basis vector in $\\mathbb{R}^{n}, [w_{1},w_{2},\\ldots, w_{p}]:=W \\in \\mathbb{R}^{n \\times p}$ and coefficients $c_{x_{i}}^{w} \\in \\mathbb{R}^{p}$ such that $\\alpha_{N}(X,n,p)=\\frac{1}{N} \\sum_{i=1}^{N}\\|x_{i}-Wc_{x_{i}}^{w}\\|^{2}$. Now if $p < < n $, saves a lot of computational cost as original data can be expressed in lower dimesional features.\n",
        "\n",
        "*By considering the eigenvalues of $XX^{*}$(which are squared version of singular values), moreover let $w_{0}:=\\frac{1}{N}\\sum_{i=1}^{N}x_{i}$ and consider the mean correct $X_{-}:=[x_{1}-w_{0},\\ldots,x_{n}-w_{0}]$*, then solution to *Prob_1* can be computed using SVD, $X_{-}=U \\Sigma V^{*}$. In particular, we can choose $W=U_{p}:= [u_1\n",
        ",\\ldots, u_p]$ to be the first $p$ columns of $U$ so that $P_{\\mathcal{W}}(x)$ is essentially best approximation of the data point $x$ in span of $U_{p}$, mathematically said $P_{\\mathcal{W}}(x)=U_{p}(\\underbrace{U_{p}^{^{*}}U_{p}}_{I})^{-1}U_{p}^{^{*}}x$, which becuase of orthogonality of basis vectors in $U,V$ simplifies to:\n",
        "$$P_{\\mathcal{W}}(x)=U_{p}U_{p}^{^{*}}x$$\n",
        "\n",
        "***When used for dimension reduction, the idea is to store $y_{i} \\mapsto U_{p}^{^{*}}x_{i}$***\n"
      ],
      "metadata": {
        "id": "ZmD8_ugCI4s5"
      }
    },
    {
      "cell_type": "markdown",
      "source": [
        "# ***Probabilistic-PCA***\n",
        "\n",
        "***Random Projections***"
      ],
      "metadata": {
        "id": "OikaNVk_YoMJ"
      }
    },
    {
      "cell_type": "code",
      "source": [
        "def get_matrix_of_vectors(wv_from_bin, required_words=['barrels', 'bpd', 'ecuador', 'energy', 'industry', 'kuwait', 'oil', 'output', 'petroleum', 'iraq']):\n",
        "    \"\"\" Put the GloVe vectors into a matrix M.\n",
        "        Param:\n",
        "            wv_from_bin: KeyedVectors object; the 400000 GloVe vectors loaded from file\n",
        "        Return:\n",
        "            M: numpy matrix shape (num words, 200) containing the vectors\n",
        "            word2ind: dictionary mapping each word to its row number in M\n",
        "    \"\"\"\n",
        "    import random\n",
        "    words = list(wv_from_bin.key_to_index.keys())\n",
        "    print(\"Shuffling words ...\")\n",
        "    random.seed(224)\n",
        "    random.shuffle(words)\n",
        "    words = words[:10000]\n",
        "    print(\"Putting %i words into word2ind and matrix M...\" % len(words))\n",
        "    word2ind = {}\n",
        "    M = []\n",
        "    curInd = 0\n",
        "    for w in words:\n",
        "        try:\n",
        "            M.append(wv_from_bin[w])\n",
        "            word2ind[w] = curInd\n",
        "            curInd += 1\n",
        "        except KeyError:\n",
        "            continue\n",
        "    for w in required_words:\n",
        "        if w in words:\n",
        "            continue\n",
        "        try:\n",
        "            M.append(wv_from_bin[w])\n",
        "            word2ind[w] = curInd\n",
        "            curInd += 1\n",
        "        except KeyError:\n",
        "            continue\n",
        "    M = np.stack(M)\n",
        "    print(\"Done.\")\n",
        "    return M, word2ind"
      ],
      "metadata": {
        "id": "SHAX4FGz_uEr"
      },
      "execution_count": null,
      "outputs": []
    },
    {
      "cell_type": "code",
      "source": [
        "import numpy as np\n",
        "D=np.array([[4,1,-2],[-3,4,-1],[-4,0,1],[2,-2,3]])"
      ],
      "metadata": {
        "id": "p5OdIISWyh5E"
      },
      "execution_count": null,
      "outputs": []
    },
    {
      "cell_type": "code",
      "source": [
        "# Step 1: Center the data by subtracting the row mean (mean of each feature across samples)\n",
        "D_mean = np.mean(D, axis=1, keepdims=True)  # Compute mean across columns (samples)\n",
        "D_centered = D - D_mean  # Subtract row mean from each feature\n",
        "p = 2\n",
        "U,S,V_T=np.linalg.svd(D_centered)"
      ],
      "metadata": {
        "id": "7PzPJ1JT3LTX"
      },
      "execution_count": null,
      "outputs": []
    },
    {
      "cell_type": "code",
      "source": [
        "U_2=U[:,:2]\n",
        "U_2.T @ D"
      ],
      "metadata": {
        "colab": {
          "base_uri": "https://localhost:8080/"
        },
        "id": "cFY2GMxD8PE1",
        "outputId": "acfe3ff5-8d46-4652-df7d-3e1505679f57"
      },
      "execution_count": null,
      "outputs": [
        {
          "output_type": "execute_result",
          "data": {
            "text/plain": [
              "array([[-6.19513031,  3.26618301, -0.68319913],\n",
              "       [-2.3211392 , -3.01651708,  3.64699406]])"
            ]
          },
          "metadata": {},
          "execution_count": 25
        }
      ]
    },
    {
      "cell_type": "code",
      "source": [
        "import numpy as np\n",
        "# Define the matrix D\n",
        "D = np.array([[4, 1, -2],\n",
        "              [-3, 4, -1],\n",
        "              [-4, 0, 1],\n",
        "              [2, -2, 3]])\n",
        "# Define function to compute post-PCA data for a given p\n",
        "def pca_reduction_coeff(D,p):\n",
        "    # Step 1: Center the data by subtracting the row mean\n",
        "    D_mean = np.mean(D, axis=1, keepdims=True)  # Compute mean across samples (columns)\n",
        "    D_centered = D - D_mean  # Subtract row mean from each feature (row)\n",
        "    # Step 2: Apply SVD\n",
        "    U, S, VT = np.linalg.svd(D_centered, full_matrices=False)\n",
        "    # Reduce to p dimensions\n",
        "    U_reduced = U[:, :p]\n",
        "    VT_reduced = VT[:p, :]\n",
        "    # Step 3: Reconstruct the data in reduced dimension\n",
        "    D_reduced = U_reduced.T @ D\n",
        "    # Step 4: Add the mean back to the data\n",
        "    # D_reconstructed = D_reduced + D_mean\n",
        "    # Round the result to 2 decimal places\n",
        "    return np.round(D_reduced,2)\n",
        "# Step 5: Print the results for p = 0, 1, 2\n",
        "for p in range(3):\n",
        "    D_pca = pca_reduction_coeff(D, p)\n",
        "    print(f\"Post-PCA data matrix for p = {p}:\\n\", D_pca, \"\\n\")"
      ],
      "metadata": {
        "colab": {
          "base_uri": "https://localhost:8080/"
        },
        "id": "4etQpBiSzHsY",
        "outputId": "c55a43b1-4c11-4b17-91aa-fd65d97f1d11"
      },
      "execution_count": null,
      "outputs": [
        {
          "output_type": "stream",
          "name": "stdout",
          "text": [
            "Post-PCA data matrix for p = 0:\n",
            " [] \n",
            "\n",
            "Post-PCA data matrix for p = 1:\n",
            " [[-6.2   3.27 -0.68]] \n",
            "\n",
            "Post-PCA data matrix for p = 2:\n",
            " [[-6.2   3.27 -0.68]\n",
            " [-2.32 -3.02  3.65]] \n",
            "\n"
          ]
        }
      ]
    },
    {
      "cell_type": "code",
      "source": [
        "import torch\n",
        "import torchvision\n",
        "from torchvision import datasets, transforms\n",
        "import numpy as np\n",
        "# Load MNIST dataset without any transformations\n",
        "trainset = torchvision.datasets.MNIST(root='./data', train=True, download=True, transform=None)\n",
        "testset = torchvision.datasets.MNIST(root='./data', train=False, download=True, transform=None)"
      ],
      "metadata": {
        "colab": {
          "base_uri": "https://localhost:8080/"
        },
        "id": "u9bNv8HPQdYE",
        "outputId": "6ad013df-511c-427c-f7b7-8d820679f452"
      },
      "execution_count": null,
      "outputs": [
        {
          "output_type": "stream",
          "name": "stdout",
          "text": [
            "Downloading http://yann.lecun.com/exdb/mnist/train-images-idx3-ubyte.gz\n",
            "Failed to download (trying next):\n",
            "<urlopen error [SSL: CERTIFICATE_VERIFY_FAILED] certificate verify failed: certificate has expired (_ssl.c:1007)>\n",
            "\n",
            "Downloading https://ossci-datasets.s3.amazonaws.com/mnist/train-images-idx3-ubyte.gz\n",
            "Downloading https://ossci-datasets.s3.amazonaws.com/mnist/train-images-idx3-ubyte.gz to ./data/MNIST/raw/train-images-idx3-ubyte.gz\n"
          ]
        },
        {
          "output_type": "stream",
          "name": "stderr",
          "text": [
            "100%|██████████| 9912422/9912422 [00:01<00:00, 5468500.95it/s] \n"
          ]
        },
        {
          "output_type": "stream",
          "name": "stdout",
          "text": [
            "Extracting ./data/MNIST/raw/train-images-idx3-ubyte.gz to ./data/MNIST/raw\n",
            "\n",
            "Downloading http://yann.lecun.com/exdb/mnist/train-labels-idx1-ubyte.gz\n",
            "Failed to download (trying next):\n",
            "<urlopen error [SSL: CERTIFICATE_VERIFY_FAILED] certificate verify failed: certificate has expired (_ssl.c:1007)>\n",
            "\n",
            "Downloading https://ossci-datasets.s3.amazonaws.com/mnist/train-labels-idx1-ubyte.gz\n",
            "Downloading https://ossci-datasets.s3.amazonaws.com/mnist/train-labels-idx1-ubyte.gz to ./data/MNIST/raw/train-labels-idx1-ubyte.gz\n"
          ]
        },
        {
          "output_type": "stream",
          "name": "stderr",
          "text": [
            "100%|██████████| 28881/28881 [00:00<00:00, 158732.42it/s]\n"
          ]
        },
        {
          "output_type": "stream",
          "name": "stdout",
          "text": [
            "Extracting ./data/MNIST/raw/train-labels-idx1-ubyte.gz to ./data/MNIST/raw\n",
            "\n",
            "Downloading http://yann.lecun.com/exdb/mnist/t10k-images-idx3-ubyte.gz\n",
            "Failed to download (trying next):\n",
            "<urlopen error [SSL: CERTIFICATE_VERIFY_FAILED] certificate verify failed: certificate has expired (_ssl.c:1007)>\n",
            "\n",
            "Downloading https://ossci-datasets.s3.amazonaws.com/mnist/t10k-images-idx3-ubyte.gz\n",
            "Downloading https://ossci-datasets.s3.amazonaws.com/mnist/t10k-images-idx3-ubyte.gz to ./data/MNIST/raw/t10k-images-idx3-ubyte.gz\n"
          ]
        },
        {
          "output_type": "stream",
          "name": "stderr",
          "text": [
            "100%|██████████| 1648877/1648877 [00:01<00:00, 1507824.72it/s]\n"
          ]
        },
        {
          "output_type": "stream",
          "name": "stdout",
          "text": [
            "Extracting ./data/MNIST/raw/t10k-images-idx3-ubyte.gz to ./data/MNIST/raw\n",
            "\n",
            "Downloading http://yann.lecun.com/exdb/mnist/t10k-labels-idx1-ubyte.gz\n",
            "Failed to download (trying next):\n",
            "<urlopen error [SSL: CERTIFICATE_VERIFY_FAILED] certificate verify failed: certificate has expired (_ssl.c:1007)>\n",
            "\n",
            "Downloading https://ossci-datasets.s3.amazonaws.com/mnist/t10k-labels-idx1-ubyte.gz\n",
            "Downloading https://ossci-datasets.s3.amazonaws.com/mnist/t10k-labels-idx1-ubyte.gz to ./data/MNIST/raw/t10k-labels-idx1-ubyte.gz\n"
          ]
        },
        {
          "output_type": "stream",
          "name": "stderr",
          "text": [
            "100%|██████████| 4542/4542 [00:00<00:00, 2481183.74it/s]\n"
          ]
        },
        {
          "output_type": "stream",
          "name": "stdout",
          "text": [
            "Extracting ./data/MNIST/raw/t10k-labels-idx1-ubyte.gz to ./data/MNIST/raw\n",
            "\n"
          ]
        }
      ]
    },
    {
      "cell_type": "code",
      "source": [
        "# best 30 dim subspace approximation of a 784 dimensional data point\n",
        "def pca_reduction(D,p,add_mean):\n",
        "    # Step 1: Center the data by subtracting the row mean\n",
        "    if add_mean:\n",
        "      D_mean = np.mean(D, axis=1, keepdims=True)  # Compute mean across samples (columns)\n",
        "    else:\n",
        "      D_mean = np.zeros(D.shape)\n",
        "    D_centered = D - D_mean  # Subtract row mean from each feature (row)\n",
        "    # Step 2: Apply SVD\n",
        "    U, S, VT = np.linalg.svd(D_centered, full_matrices=False)\n",
        "    # Reduce to p dimensions\n",
        "    U_reduced = U[:, :p]\n",
        "    # Step 3: Reconstruct the data in reduced dimension\n",
        "    D_sub_reduced = U_reduced @ U_reduced.T @ D\n",
        "    # Step 4: Add the mean back to the data\n",
        "    # D_reconstructed = D_reduced + D_mean\n",
        "    # Round the result to 2 decimal places\n",
        "    #if add_mean:\n",
        "    #  return np.round(D_sub_reduced,2)+D_mean\n",
        "    # else:\n",
        "    return np.round(D_sub_reduced,2)\n",
        "add_mean = False\n",
        "for p in range(5):\n",
        "    if p == 4:\n",
        "        print('Original data matrix:\\n', D)\n",
        "    else:\n",
        "        D_pca_sub = pca_reduction(D, p, add_mean)\n",
        "        D_pca_with_mean = pca_reduction(D, p, add_mean=True)\n",
        "        print(f\"Post-PCA data matrix for p = {p}:\\n\", D_pca_sub, \"\\nWith Mean:\\n\", D_pca_with_mean, \"\\n\")"
      ],
      "metadata": {
        "colab": {
          "base_uri": "https://localhost:8080/"
        },
        "id": "A01e2M4uSP7r",
        "outputId": "92a72567-0717-4f64-cbd3-42704e4c33c7"
      },
      "execution_count": null,
      "outputs": [
        {
          "output_type": "stream",
          "name": "stdout",
          "text": [
            "Post-PCA data matrix for p = 0:\n",
            " [[0. 0. 0.]\n",
            " [0. 0. 0.]\n",
            " [0. 0. 0.]\n",
            " [0. 0. 0.]] \n",
            "With Mean:\n",
            " [[0. 0. 0.]\n",
            " [0. 0. 0.]\n",
            " [0. 0. 0.]\n",
            " [0. 0. 0.]] \n",
            "\n",
            "Post-PCA data matrix for p = 1:\n",
            " [[ 2.87 -1.26  0.19]\n",
            " [-4.03  1.77 -0.26]\n",
            " [-3.29  1.44 -0.21]\n",
            " [ 2.57 -1.13  0.17]] \n",
            "With Mean:\n",
            " [[ 2.27 -1.2   0.25]\n",
            " [-4.44  2.34 -0.49]\n",
            " [-2.81  1.48 -0.31]\n",
            " [ 2.38 -1.26  0.26]] \n",
            "\n",
            "Post-PCA data matrix for p = 2:\n",
            " [[ 3.96  0.9  -2.11]\n",
            " [-3.28  3.25 -1.84]\n",
            " [-3.94  0.15  1.17]\n",
            " [ 1.68 -2.87  2.03]] \n",
            "With Mean:\n",
            " [[ 3.82  0.82 -2.18]\n",
            " [-3.68  3.32 -1.68]\n",
            " [-3.78  0.22  1.22]\n",
            " [ 1.17 -2.83  2.17]] \n",
            "\n",
            "Post-PCA data matrix for p = 3:\n",
            " [[ 4.  1. -2.]\n",
            " [-3.  4. -1.]\n",
            " [-4. -0.  1.]\n",
            " [ 2. -2.  3.]] \n",
            "With Mean:\n",
            " [[ 3.75  0.75 -2.25]\n",
            " [-3.05  3.95 -1.05]\n",
            " [-4.25 -0.25  0.75]\n",
            " [ 1.85 -2.15  2.85]] \n",
            "\n",
            "Original data matrix:\n",
            " [[ 4  1 -2]\n",
            " [-3  4 -1]\n",
            " [-4  0  1]\n",
            " [ 2 -2  3]]\n"
          ]
        }
      ]
    },
    {
      "cell_type": "code",
      "source": [
        "obsv_image=[]\n",
        "for image,label in trainset:\n",
        "  # image is PIL.Image.Image object.\n",
        "  if label == 2:\n",
        "    obsv_image.append(np.array(image).reshape(-1))\n",
        "# we want columns to represent a sample so:\n",
        "obsv_image=np.array(obsv_image).T\n",
        "# obsv_image.shape = (784, 5958)"
      ],
      "metadata": {
        "id": "GyCW3tBVRjiI"
      },
      "execution_count": null,
      "outputs": []
    },
    {
      "cell_type": "code",
      "source": [
        "red_sub_dim_flattened_image = pca_reduction(obsv_image,30,add_mean=True)"
      ],
      "metadata": {
        "id": "Dq8qcJyQb0Kd"
      },
      "execution_count": null,
      "outputs": []
    },
    {
      "cell_type": "code",
      "source": [
        "from PIL import Image\n",
        "def recon_low_sub(red_sub_dim_flattened_image, col_idx,new_size=(56, 56)):\n",
        "    # Unflatten the specified column into a 28x28 array\n",
        "    unflattened_image = red_sub_dim_flattened_image[:, col_idx].reshape(28, 28)\n",
        "    # Scale the pixel values to the range [0, 255] for display\n",
        "    scaled_image = (unflattened_image - unflattened_image.min()) / (unflattened_image.max() - unflattened_image.min()) * 255\n",
        "    scaled_image = scaled_image.astype(np.uint8)\n",
        "    # Converts the floating-point values in scaled_image(floats) to 8-bit unsigned integers (uint8),\n",
        "    # which is the required data type for most image processing libraries , including PIL.\n",
        "    # Create and return a PIL image\n",
        "    # Create a PIL image\n",
        "    pil_image = Image.fromarray(scaled_image)\n",
        "    # Resize the image to the specified size\n",
        "    pil_image_resized = pil_image.resize(new_size, Image.LANCZOS)\n",
        "    return pil_image_resized"
      ],
      "metadata": {
        "id": "eVXTFtQqb0Wy"
      },
      "execution_count": null,
      "outputs": []
    },
    {
      "cell_type": "code",
      "source": [
        "recon_low_sub(red_sub_dim_flattened_image,177,new_size=(150, 150))"
      ],
      "metadata": {
        "colab": {
          "base_uri": "https://localhost:8080/",
          "height": 167
        },
        "id": "BRInwLU1b0gA",
        "outputId": "81072459-1d0a-4eb6-f1bb-2b17996a09d4"
      },
      "execution_count": null,
      "outputs": [
        {
          "output_type": "execute_result",
          "data": {
            "text/plain": [
              "<PIL.Image.Image image mode=L size=150x150>"
            ],
            "image/png": "[encoded data removed]",
            "image/jpeg": "[encoded data removed]"
          },
          "metadata": {},
          "execution_count": 19
        }
      ]
    },
    {
      "cell_type": "code",
      "source": [
        "import torch\n",
        "import torchvision\n",
        "import matplotlib.pyplot as plt\n",
        "# Define a transform to normalize the data\n",
        "transform = transforms.Compose([transforms.ToTensor(), transforms.Normalize((0.5,), (0.5,))])\n",
        "\n",
        "# Download the training and test datasets\n",
        "trainset = torchvision.datasets.MNIST(root='./data', train=True, download=True, transform=transform)\n",
        "testset = torchvision.datasets.MNIST(root='./data', train=False, download=True, transform=transform)\n",
        "\n",
        "trainloader = torch.utils.data.DataLoader(trainset, batch_size=64, shuffle=True)\n",
        "testloader = torch.utils.data.DataLoader(testset, batch_size=64, shuffle=False)\n",
        "\n",
        "# Visualizing some samples\n",
        "dataiter = iter(trainloader)\n",
        "images, labels = dataiter.next()\n",
        "\n",
        "# Plot some images\n",
        "fig, axes = plt.subplots(1, 6, figsize=(10, 4))\n",
        "for i in range(6):\n",
        "    axes[i].imshow(images[i].numpy().squeeze(), cmap='gray')\n",
        "    axes[i].set_title(f'Label: {labels[i]}')\n",
        "    axes[i].axis('off')\n",
        "plt.show()\n"
      ],
      "metadata": {
        "colab": {
          "base_uri": "https://localhost:8080/"
        },
        "id": "9y-Ruia3Khqs",
        "outputId": "054c9fa2-df48-4b5e-e3f0-b7ee70137086"
      },
      "execution_count": null,
      "outputs": [
        {
          "output_type": "stream",
          "name": "stdout",
          "text": [
            "784\n"
          ]
        }
      ]
    },
    {
      "cell_type": "code",
      "source": [
        "# -----------------------------------------------------------------\n",
        "# Run Cell to Reduce 200-Dimensional Word Embeddings to k Dimensions\n",
        "# Note: This should be quick to run\n",
        "# -----------------------------------------------------------------\n",
        "M, word2ind = get_matrix_of_vectors(wv_from_bin)\n",
        "M_reduced = reduce_to_k_dim(M, k=2)\n",
        "\n",
        "# Rescale (normalize) the rows to make them each of unit-length\n",
        "M_lengths = np.linalg.norm(M_reduced, axis=1)\n",
        "M_reduced_normalized = M_reduced / M_lengths[:, np.newaxis] # broadcasting"
      ],
      "metadata": {
        "colab": {
          "base_uri": "https://localhost:8080/"
        },
        "id": "n1Vl57BR_uIg",
        "outputId": "27de6810-be72-45cd-e47b-9cc76755a7d7"
      },
      "execution_count": null,
      "outputs": [
        {
          "output_type": "stream",
          "name": "stdout",
          "text": [
            "Shuffling words ...\n",
            "Putting 10000 words into word2ind and matrix M...\n",
            "Done.\n",
            "Running Truncated SVD over 10010 words...\n",
            "Done.\n"
          ]
        }
      ]
    },
    {
      "cell_type": "code",
      "source": [
        "words = ['barrels', 'bpd', 'ecuador', 'energy', 'industry', 'kuwait', 'oil', 'output', 'petroleum', 'iraq']\n",
        "plot_embeddings(M_reduced_normalized, word2ind, words)"
      ],
      "metadata": {
        "colab": {
          "base_uri": "https://localhost:8080/",
          "height": 872
        },
        "id": "fxRoc9DNHVJq",
        "outputId": "72fe5ac8-a6d1-402e-8260-09f1f147ffd1"
      },
      "execution_count": null,
      "outputs": [
        {
          "output_type": "display_data",
          "data": {
            "text/plain": [
              "<Figure size 1200x1000 with 1 Axes>"
            ],
            "image/png": "[encoded data removed]"
          },
          "metadata": {}
        }
      ]
    }
  ],
  "metadata": {
    "colab": {
      "provenance": [],
      "authorship_tag": "ABX9TyPSIOOxR1sJwYR4dA3xQD6k"
    },
    "kernelspec": {
      "display_name": "Python 3",
      "name": "python3"
    },
    "language_info": {
      "name": "python"
    }
  },
  "nbformat": 4,
  "nbformat_minor": 0
}